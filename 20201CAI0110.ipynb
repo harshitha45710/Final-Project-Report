{
  "cells": [
    {
      "cell_type": "code",
      "execution_count": null,
      "id": "c93bbfd8",
      "metadata": {
        "id": "c93bbfd8"
      },
      "outputs": [],
      "source": [
        "import cv2\n",
        "import pandas as pd\n",
        "import numpy as np\n",
        "import matplotlib.pyplot as plt\n",
        "from scipy.signal import find_peaks\n",
        "from sklearn.metrics import mean_squared_error\n",
        "from scipy.signal import find_peaks, peak_prominences"
      ]
    },
    {
      "cell_type": "code",
      "execution_count": null,
      "id": "5fb6d611",
      "metadata": {
        "id": "5fb6d611"
      },
      "outputs": [],
      "source": [
        "def calculate_x(df):\n",
        "    # Extracting the 'Wavelength(nm)' and 'Instant Intensity' columns\n",
        "    wavelength_column = df['Wavelength(nm)']\n",
        "    irradiance_sample_column = df['Instant Intensity']\n",
        "\n",
        "    # Creating a new DataFrame for the results\n",
        "    result_df = pd.DataFrame({'Wavelength(nm)': wavelength_column, 'Instant Intensity': irradiance_sample_column})\n",
        "    for column in df.columns[2:]:\n",
        "        # Calculate x using the formula x = Irradiance [mW m-2 nm-1] / Instant Intensity\n",
        "        x_values = df[column] / irradiance_sample_column\n",
        "\n",
        "        # Add the calculated values to the result DataFrame\n",
        "        result_df[column + '_x'] = x_values\n",
        "\n",
        "    return result_df\n"
      ]
    },
    {
      "cell_type": "code",
      "execution_count": null,
      "id": "c9ee4fe3",
      "metadata": {
        "id": "c9ee4fe3",
        "outputId": "2b9c1eb3-73cc-4054-8244-73955d3e46bd"
      },
      "outputs": [
        {
          "name": "stdout",
          "output_type": "stream",
          "text": [
            "     Wavelength(nm)  Instant Intensity  Irradiance [mW m-2 nm-1]_x  \\\n",
            "0           399.974           3.910207                    0.141517   \n",
            "1           400.338           5.493180                    0.164458   \n",
            "2           400.702           7.358740                    0.270359   \n",
            "3           401.066          10.000506                    0.287210   \n",
            "4           401.430          13.038530                    0.336210   \n",
            "..              ...                ...                         ...   \n",
            "861         698.861        1014.957469                    0.705577   \n",
            "862         699.190         996.400708                    0.707113   \n",
            "863         699.519         976.656159                    0.708492   \n",
            "864         699.848         956.283703                    0.711510   \n",
            "865         700.177         936.739066                    0.712289   \n",
            "\n",
            "     Irradiance [mW m-2 nm-1].1_x  Irradiance [mW m-2 nm-1].2_x  \\\n",
            "0                        0.097664                      0.161088   \n",
            "1                        0.162732                      0.221553   \n",
            "2                        0.256213                      0.249806   \n",
            "3                        0.332511                      0.316483   \n",
            "4                        0.378931                      0.370252   \n",
            "..                            ...                           ...   \n",
            "861                      0.680133                      0.851311   \n",
            "862                      0.680681                      0.849993   \n",
            "863                      0.681521                      0.849857   \n",
            "864                      0.684269                      0.848973   \n",
            "865                      0.685889                      0.844229   \n",
            "\n",
            "     Irradiance [mW m-2 nm-1].3_x  Irradiance [mW m-2 nm-1].4_x  \\\n",
            "0                        0.178187                      0.200101   \n",
            "1                        0.252714                      0.237143   \n",
            "2                        0.314155                      0.293571   \n",
            "3                        0.313685                      0.295745   \n",
            "4                        0.338421                      0.327559   \n",
            "..                            ...                           ...   \n",
            "861                      0.777298                      0.796045   \n",
            "862                      0.775067                      0.799220   \n",
            "863                      0.771853                      0.801943   \n",
            "864                      0.769127                      0.804326   \n",
            "865                      0.762216                      0.805890   \n",
            "\n",
            "     Irradiance [mW m-2 nm-1].5_x  Irradiance [mW m-2 nm-1].6_x  \\\n",
            "0                        0.226971                      0.036685   \n",
            "1                        0.311541                      0.122893   \n",
            "2                        0.397802                      0.133926   \n",
            "3                        0.439253                      0.128525   \n",
            "4                        0.490471                      0.165973   \n",
            "..                            ...                           ...   \n",
            "861                      0.705485                      0.797615   \n",
            "862                      0.704034                      0.800683   \n",
            "863                      0.703534                      0.804349   \n",
            "864                      0.703792                      0.809163   \n",
            "865                      0.701980                      0.811869   \n",
            "\n",
            "     Irradiance [mW m-2 nm-1].7_x  Irradiance [mW m-2 nm-1].8_x  \\\n",
            "0                        0.078097                      0.107449   \n",
            "1                        0.098664                      0.193906   \n",
            "2                        0.088863                      0.373269   \n",
            "3                        0.146452                      0.406155   \n",
            "4                        0.178287                      0.411523   \n",
            "..                            ...                           ...   \n",
            "861                      0.830794                      0.791115   \n",
            "862                      0.829652                      0.792793   \n",
            "863                      0.831274                      0.794372   \n",
            "864                      0.831693                      0.797028   \n",
            "865                      0.830947                      0.797181   \n",
            "\n",
            "     Irradiance [mW m-2 nm-1].9_x  Irradiance [mW m-2 nm-1].10_x  \\\n",
            "0                        0.036192                       0.024977   \n",
            "1                        0.029938                       0.029624   \n",
            "2                        0.036740                       0.034818   \n",
            "3                        0.028720                       0.033249   \n",
            "4                        0.025786                       0.029062   \n",
            "..                            ...                            ...   \n",
            "861                      0.000695                       0.000670   \n",
            "862                      0.000710                       0.000683   \n",
            "863                      0.000725                       0.000698   \n",
            "864                      0.000744                       0.000716   \n",
            "865                      0.000760                       0.000732   \n",
            "\n",
            "     Unnamed: 13_x  \n",
            "0         0.036192  \n",
            "1         0.029938  \n",
            "2         0.036740  \n",
            "3         0.028720  \n",
            "4         0.025786  \n",
            "..             ...  \n",
            "861       0.000695  \n",
            "862       0.000710  \n",
            "863       0.000725  \n",
            "864       0.000744  \n",
            "865       0.000760  \n",
            "\n",
            "[866 rows x 14 columns]\n"
          ]
        }
      ],
      "source": [
        "try:\n",
        "    df = pd.read_csv('C:/Users/Admin/Desktop/Data sets/correct/4.csv')\n",
        "    result_df = calculate_x(df)\n",
        "    print(result_df)\n",
        "\n",
        "except Exception as e:\n",
        "    print(f\"An error occurred: {e}\")"
      ]
    },
    {
      "cell_type": "code",
      "execution_count": null,
      "id": "e66c4f7c",
      "metadata": {
        "id": "e66c4f7c"
      },
      "outputs": [],
      "source": [
        "x_column = result_df['Irradiance [mW m-2 nm-1]_x']\n",
        "wavelength_column = result_df['Wavelength(nm)']"
      ]
    },
    {
      "cell_type": "code",
      "execution_count": null,
      "id": "ce42730e",
      "metadata": {
        "id": "ce42730e"
      },
      "outputs": [],
      "source": [
        "peaks, _ = find_peaks(x_column, prominence=0.01)\n",
        "prominences = peak_prominences(x_column, peaks)[0]"
      ]
    },
    {
      "cell_type": "code",
      "execution_count": null,
      "id": "91323b86",
      "metadata": {
        "id": "91323b86",
        "outputId": "62b7ef7f-6345-48e6-eb04-aba2515da101"
      },
      "outputs": [
        {
          "name": "stdout",
          "output_type": "stream",
          "text": [
            "Best combination of peaks: [224, 300, 170, 381, 465]\n",
            "Wavelength values of the best combination of peaks: 224    480.604\n",
            "300    507.522\n",
            "170    461.341\n",
            "381    535.958\n",
            "465    565.167\n",
            "Name: Wavelength(nm), dtype: float64\n"
          ]
        }
      ],
      "source": [
        "homogeneous_peaks = []\n",
        "differences = [abs(x_column[peaks[i]] - x_column[peaks[i+1]]) for i in range(len(peaks) - 1)]\n",
        "\n",
        "for i in range(len(differences) - 3):\n",
        "    avg_diff = (differences[i] + differences[i+1] + differences[i+2] + differences[i+3]) / 4\n",
        "    homogeneous_peaks.append(peaks[i:i+5])\n",
        "intensities = [x_column[peak] for peak in peaks]\n",
        "\n",
        "# Sort the peaks based on intensity\n",
        "sorted_peaks = [peak for _, peak in sorted(zip(intensities, peaks), reverse=True)]\n",
        "\n",
        "# Select the best combination of peaks\n",
        "best_combination = sorted_peaks[:5]\n",
        "\n",
        "# Print the best combination of peaks\n",
        "print(\"Best combination of peaks:\", best_combination)\n",
        "# Print the wavelength values of the best combination of peaks\n",
        "best_wavelengths = wavelength_column[best_combination]\n",
        "print(\"Wavelength values of the best combination of peaks:\", best_wavelengths)\n"
      ]
    },
    {
      "cell_type": "code",
      "execution_count": null,
      "id": "bf4af321",
      "metadata": {
        "scrolled": false,
        "id": "bf4af321",
        "outputId": "6c054bd3-1a47-40b2-b7d6-a92219bacad1"
      },
      "outputs": [
        {
          "data": {
            "image/png": "[encoded data removed]",
            "text/plain": [
              "<Figure size 1000x600 with 1 Axes>"
            ]
          },
          "metadata": {},
          "output_type": "display_data"
        },
        {
          "name": "stdout",
          "output_type": "stream",
          "text": [
            "Selected Wavelength values:\n",
            "[535.958, 565.167, 597.851, 633.196, 673.066]\n"
          ]
        }
      ],
      "source": [
        "# Plot the graph with peaks and their prominences\n",
        "plt.figure(figsize=(10, 6))\n",
        "plt.plot(wavelength_column, x_column, label='Intensity')\n",
        "plt.scatter(wavelength_column[peaks], x_column[peaks], color='red', label='Peaks')\n",
        "\n",
        "# Convert the indices from peak_group to a list and use it to access the values from wavelength_column and x_column\n",
        "selected_wavelengths = wavelength_column[peak_group].tolist()\n",
        "selected_intensities = x_column[peak_group].tolist()\n",
        "plt.scatter(selected_wavelengths, selected_intensities, color='black', label='Selected Peaks')\n",
        "\n",
        "plt.xlabel('Wavelength (nm)')\n",
        "plt.ylabel('Intensity')\n",
        "plt.title('Intensity against Wavelength')\n",
        "plt.legend()\n",
        "plt.show()\n",
        "\n",
        "# Print the selected wavelength values\n",
        "print(\"Selected Wavelength values:\")\n",
        "print(selected_wavelengths)\n"
      ]
    },
    {
      "cell_type": "code",
      "execution_count": null,
      "id": "a68aef37",
      "metadata": {
        "id": "a68aef37",
        "outputId": "57611ac0-a439-4cfd-b2ca-344eac9d2b69"
      },
      "outputs": [
        {
          "name": "stdout",
          "output_type": "stream",
          "text": [
            "          Label  Wavelength\n",
            "0  Wavelength 1     535.958\n",
            "1  Wavelength 2     565.167\n",
            "2  Wavelength 3     597.851\n",
            "3  Wavelength 4     633.196\n",
            "4  Wavelength 5     673.066\n",
            "Cell Gap (d1): 5.19 nm\n",
            "Cell Gap (d2): 5.17 nm\n",
            "Cell Gap (d3): 5.36 nm\n",
            "Cell Gap (d4): 5.34 nm\n"
          ]
        }
      ],
      "source": [
        "# Assuming you have a DataFrame with peak wavelengths, replace this with your actual DataFrame\n",
        "selected_wavelengths_df = pd.DataFrame({'Wavelength': selected_wavelengths})\n",
        "\n",
        "# Provide sequence of wavelengths\n",
        "provided_wavelengths = selected_wavelengths_df['Wavelength'].values\n",
        "\n",
        "# Create a dictionary to map actual wavelengths to provided sequence\n",
        "wavelength_mapping = {actual: f'Wavelength {i}' for i, actual in enumerate(provided_wavelengths, start=1)}\n",
        "\n",
        "# Label the peaks using the mapping\n",
        "selected_wavelengths_df['Label'] = selected_wavelengths_df['Wavelength'].map(wavelength_mapping)\n",
        "\n",
        "# Print the DataFrame with labels\n",
        "print(selected_wavelengths_df[['Label', 'Wavelength']])\n",
        "\n",
        "# Calculate d for each pair of adjacent peaks with modulus using peak wavelengths\n",
        "d_values = []\n",
        "for i in range(1, len(provided_wavelengths)):\n",
        "    lambda_n = provided_wavelengths[i - 1]\n",
        "    lambda_n1 = provided_wavelengths[i]\n",
        "\n",
        "    # Skip pairs where the difference is zero or any other condition\n",
        "    difference = lambda_n1 - lambda_n\n",
        "    if difference != 0:\n",
        "        d = 1 / (2 * np.abs(1 / lambda_n1 - 1 / lambda_n)) * 0.001\n",
        "        d_values.append(d)\n",
        "\n",
        "# Display the calculated d values for the respective wavelengths starting from the second wavelength\n",
        "for i, d in enumerate(d_values):\n",
        "    print(f\"Cell Gap (d{i + 1}): {d:.2f} nm\")"
      ]
    },
    {
      "cell_type": "code",
      "execution_count": null,
      "id": "d4d4cd21",
      "metadata": {
        "id": "d4d4cd21",
        "outputId": "1601b541-b8e1-4f08-82a4-a0348e3a9e1f"
      },
      "outputs": [
        {
          "name": "stdout",
          "output_type": "stream",
          "text": [
            " Cell Gap (D): 5.26 nm\n"
          ]
        }
      ],
      "source": [
        "# Calculate the average value of d_values\n",
        "average_d = np.mean(d_values)\n",
        "\n",
        "# Display the average value with only two decimal places\n",
        "print(f\" Cell Gap (D): {average_d:.2f} nm\")"
      ]
    },
    {
      "cell_type": "code",
      "execution_count": null,
      "id": "71a6266d",
      "metadata": {
        "id": "71a6266d"
      },
      "outputs": [],
      "source": []
    },
    {
      "cell_type": "code",
      "execution_count": null,
      "id": "db590b5b",
      "metadata": {
        "id": "db590b5b"
      },
      "outputs": [],
      "source": []
    }
  ],
  "metadata": {
    "kernelspec": {
      "display_name": "Python 3 (ipykernel)",
      "language": "python",
      "name": "python3"
    },
    "language_info": {
      "codemirror_mode": {
        "name": "ipython",
        "version": 3
      },
      "file_extension": ".py",
      "mimetype": "text/x-python",
      "name": "python",
      "nbconvert_exporter": "python",
      "pygments_lexer": "ipython3",
      "version": "3.11.5"
    },
    "colab": {
      "provenance": []
    }
  },
  "nbformat": 4,
  "nbformat_minor": 5
}